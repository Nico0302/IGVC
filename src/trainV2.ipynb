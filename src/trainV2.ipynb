{
 "cells": [
  {
   "cell_type": "code",
   "execution_count": null,
   "id": "51e3a2cb",
   "metadata": {},
   "outputs": [],
   "source": [
    "import os\n",
    "\n",
    "import torch\n",
    "import matplotlib.pyplot as plt\n",
    "import pytorch_lightning as pl\n",
    "from smp import config\n"
   ]
  },
  {
   "cell_type": "code",
   "execution_count": null,
   "id": "ac16ceb7",
   "metadata": {},
   "outputs": [],
   "source": [
    "from smp.dataset import SegmentationDataset, Split\n",
    "from smp.transform import get_train_transform\n",
    "from torch.utils.data import DataLoader\n",
    "\n",
    "transform = get_train_transform(config.INPUT_IMAGE_WIDTH, config.INPUT_IMAGE_HEIGHT)\n",
    "\n",
    "train_dataset = SegmentationDataset(config.DATASET_PATH, Split.TRAIN, valid_size=config.VALID_SIZE, transform=transform)\n",
    "valid_dataset = SegmentationDataset(config.DATASET_PATH, Split.VALID, valid_size=config.VALID_SIZE, transform=transform)\n",
    "test_dataset = SegmentationDataset(config.DATASET_PATH, Split.TEST, valid_size=config.VALID_SIZE, transform=transform)\n",
    "\n",
    "print(f\"Train size: {len(train_dataset)}\")\n",
    "print(f\"Valid size: {len(valid_dataset)}\")\n",
    "print(f\"Test size: {len(test_dataset)}\")\n",
    "\n",
    "train_dataloader = DataLoader(\n",
    "    train_dataset, batch_size=config.BATCH_SIZE, shuffle=True, num_workers=config.NUM_WORKERS\n",
    ")\n",
    "valid_dataloader = DataLoader(\n",
    "    valid_dataset, batch_size=config.BATCH_SIZE, shuffle=False, num_workers=config.NUM_WORKERS\n",
    ")\n",
    "test_dataloader = DataLoader(\n",
    "    test_dataset, batch_size=config.BATCH_SIZE, shuffle=False, num_workers=config.NUM_WORKERS\n",
    ")"
   ]
  },
  {
   "cell_type": "code",
   "execution_count": null,
   "id": "6ad24bac",
   "metadata": {},
   "outputs": [],
   "source": [
    "# lets look at some samples\n",
    "\n",
    "def show_sample(dataset, index):\n",
    "    sample = dataset[index]\n",
    "    plt.subplot(1, 2, 1)\n",
    "    # for visualization we have to transpose back to HWC\n",
    "    plt.imshow(sample[\"image\"].transpose(1, 2, 0))\n",
    "    plt.subplot(1, 2, 2)\n",
    "    # for visualization we have to remove 3rd dimension of mask\n",
    "    plt.imshow(sample[\"mask\"].transpose(1, 2, 0))\n",
    "    plt.show()\n",
    "\n",
    "# show some samples\n",
    "for i in range(3):\n",
    "    show_sample(train_dataset, i)\n",
    "    show_sample(valid_dataset, i)\n",
    "    show_sample(test_dataset, i)"
   ]
  },
  {
   "cell_type": "code",
   "execution_count": null,
   "id": "53d39ecd",
   "metadata": {},
   "outputs": [],
   "source": [
    "from smp.model import SegmentationModel\n",
    "\n",
    "T_MAX = config.NUM_EPOCHS * len(train_dataloader)\n",
    "\n",
    "model = SegmentationModel(\"FPN\", \"resnet34\", T_max=T_MAX, in_channels=3, out_classes=1)"
   ]
  },
  {
   "cell_type": "code",
   "execution_count": null,
   "id": "2154cc3f",
   "metadata": {},
   "outputs": [],
   "source": [
    "trainer = pl.Trainer(max_epochs=config.NUM_EPOCHS, log_every_n_steps=1)\n",
    "\n",
    "torch.set_float32_matmul_precision(\"high\")\n",
    "\n",
    "trainer.fit(\n",
    "    model,\n",
    "    train_dataloaders=train_dataloader,\n",
    "    val_dataloaders=valid_dataloader,\n",
    ")"
   ]
  },
  {
   "cell_type": "code",
   "execution_count": null,
   "id": "2ee97871",
   "metadata": {},
   "outputs": [],
   "source": [
    "test_metrics = trainer.test(model, dataloaders=test_dataloader, verbose=False)\n",
    "print(test_metrics)"
   ]
  },
  {
   "cell_type": "code",
   "execution_count": null,
   "id": "159647b6",
   "metadata": {},
   "outputs": [],
   "source": [
    "from huggingface_hub import notebook_login\n",
    "\n",
    "notebook_login()"
   ]
  },
  {
   "cell_type": "code",
   "execution_count": null,
   "id": "ae3a03a8",
   "metadata": {},
   "outputs": [],
   "source": [
    "# get original model from lightning PetModel\n",
    "smp_model = model.model\n",
    "# if push_to_hub=True, model will be saved to repository with this name\n",
    "commit_info = model.model.save_pretrained(\n",
    "    save_directory=config.MODEL_NAME,\n",
    "    push_to_hub=True,  # optional, push model to HF Hub\n",
    "    metrics=test_metrics,  # optional, save metrics in model card\n",
    "    dataset=config.DATASET_NAME,  # optional, save dataset name in model card\n",
    ")"
   ]
  },
  {
   "cell_type": "code",
   "execution_count": null,
   "id": "8679f2df",
   "metadata": {},
   "outputs": [],
   "source": [
    "batch = next(iter(test_dataloader))\n",
    "with torch.no_grad():\n",
    "    model.eval()\n",
    "    logits = model(batch[\"image\"])\n",
    "pr_masks = logits.sigmoid()\n",
    "for idx, (image, gt_mask, pr_mask) in enumerate(\n",
    "    zip(batch[\"image\"], batch[\"mask\"], pr_masks)\n",
    "):\n",
    "    if idx <= 4:\n",
    "        plt.figure(figsize=(10, 5))\n",
    "        plt.subplot(1, 3, 1)\n",
    "        plt.imshow(image.numpy().transpose(1, 2, 0))\n",
    "        plt.title(\"Image\")\n",
    "        plt.axis(\"off\")\n",
    "\n",
    "        plt.subplot(1, 3, 2)\n",
    "        plt.imshow(gt_mask.numpy().squeeze())\n",
    "        plt.title(\"Ground truth\")\n",
    "        plt.axis(\"off\")\n",
    "\n",
    "        plt.subplot(1, 3, 3)\n",
    "        plt.imshow(pr_mask.numpy().squeeze())\n",
    "        plt.title(\"Prediction\")\n",
    "        plt.axis(\"off\")\n",
    "        plt.show()\n",
    "    else:\n",
    "        break"
   ]
  }
 ],
 "metadata": {
  "kernelspec": {
   "display_name": ".venv",
   "language": "python",
   "name": "python3"
  },
  "language_info": {
   "codemirror_mode": {
    "name": "ipython",
    "version": 3
   },
   "file_extension": ".py",
   "mimetype": "text/x-python",
   "name": "python",
   "nbconvert_exporter": "python",
   "pygments_lexer": "ipython3",
   "version": "3.11.6"
  }
 },
 "nbformat": 4,
 "nbformat_minor": 5
}
